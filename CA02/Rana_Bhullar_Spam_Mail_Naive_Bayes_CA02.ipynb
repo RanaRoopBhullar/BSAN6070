{
 "cells": [
  {
   "cell_type": "markdown",
   "metadata": {
    "id": "736lyl25XblX"
   },
   "source": [
    "## Rana-Roop Singh Bhullar"
   ]
  },
  {
   "cell_type": "markdown",
   "metadata": {
    "id": "nwhJbdk4Xrb5"
   },
   "source": [
    "## Assignment: CA02 - Spam Mail Naive Bayes"
   ]
  },
  {
   "cell_type": "markdown",
   "metadata": {
    "id": "jabx-XnKXr_w"
   },
   "source": [
    "## Program Initialization Section"
   ]
  },
  {
   "cell_type": "markdown",
   "metadata": {
    "id": "baIrqGuqXwR8"
   },
   "source": [
    "# Enter your import packages here"
   ]
  },
  {
   "cell_type": "markdown",
   "metadata": {
    "id": "hdf5ti2mXaAT"
   },
   "source": []
  },
  {
   "cell_type": "code",
   "execution_count": 1,
   "metadata": {
    "id": "UdHcdp2EXY0b"
   },
   "outputs": [],
   "source": [
    "# import packages \n",
    "import os \n",
    "# The os package allows for creating and deleting a dictionary  \n",
    "import numpy as np \n",
    "from collections import Counter \n",
    "from sklearn.naive_bayes import GaussianNB\n",
    "# Gaussian model training is used for classification and \n",
    "# it assumes the features follow a normal distribution\n",
    "from sklearn.metrics import accuracy_score\n",
    "# Accuracy score is used to calculate the percentage of correct\n",
    "# predictions"
   ]
  },
  {
   "cell_type": "code",
   "execution_count": 10,
   "metadata": {},
   "outputs": [
    {
     "name": "stdout",
     "output_type": "stream",
     "text": [
      "Subject: re : 6 . 199 ipa\n",
      "\n",
      "why must kind stuff decide vote ? since obviously ipa membership equal interest matter never , achieve us join ipa force issue , \" pack \" , never representative . why let invisible hand \" market \" idea operate freely instead ? fewer fewer ipa 's made-up symbol , either organization become completely irrelevant , own mind respond \" market force \" , perhap group step propose system manifestly better anyone else 's , achieve standardization . really few top name phonetics together editor few journal , probably something . simply anywhere else : someone publish truly superior system start . finally , reality , seem certain trend occur anyway particular resistance hachek correspond ipa symbol wane . put inconsistency american v . canadian v . british spell , probably here . gonna worry something , worry those case where te same symbol different commonly meaning ' j ' ' y ' . alexis mr\n",
      "\n"
     ]
    }
   ],
   "source": [
    "# looking at one file\n",
    "f = open('./train-mails\\\\6-380msg1.txt', \"r\")\n",
    "print(f.read())\n",
    "# we can see that the fist line is the subject"
   ]
  },
  {
   "cell_type": "markdown",
   "metadata": {
    "id": "eIOTFWiIcZOb"
   },
   "source": [
    "## Building a Dictionary"
   ]
  },
  {
   "cell_type": "markdown",
   "metadata": {
    "id": "PnBxMuaAcfPZ"
   },
   "source": [
    "Cleaning and preparing data"
   ]
  },
  {
   "cell_type": "code",
   "execution_count": 2,
   "metadata": {
    "id": "4raaY3siclY9"
   },
   "outputs": [],
   "source": [
    "#Step 1: Let's add all the symbols and words in the dictionary\n",
    "#Step 2: Let's remove all non-alpha-numeric characters and any single character alpha-numeric characters.\n",
    "#Step 3: Keep the most common 3000 words in the dictionary and return it.\n",
    "def make_Dictionary(root_dir):\n",
    "  all_words = []\n",
    "  emails = [os.path.join(root_dir,f) for f in os.listdir(root_dir)]\n",
    "  for mail in emails:\n",
    "    with open(mail) as m:\n",
    "      for line in m:\n",
    "        words = line.split()\n",
    "        all_words += words\n",
    "  dictionary = Counter(all_words)\n",
    "  list_to_remove = list(dictionary)\n",
    "\n",
    "  for item in list_to_remove:\n",
    "    if item.isalpha() == False:\n",
    "      del dictionary[item]\n",
    "    elif len(item) == 1:\n",
    "      del dictionary[item]\n",
    "  dictionary = dictionary.most_common(3000)\n",
    "  return dictionary"
   ]
  },
  {
   "cell_type": "code",
   "execution_count": 3,
   "metadata": {
    "id": "8XBNErkzc3K_"
   },
   "outputs": [],
   "source": [
    "#Create a function to extract feauture columns and analyzes what type of email is.\n",
    "#Create a Labelled Data Column\n",
    "#Extracting features and corresponding label matrix\n",
    "def extract_features(mail_dir): \n",
    "  files = [os.path.join(mail_dir,fi) for fi in os.listdir(mail_dir)] \n",
    "  features_matrix = np.zeros((len(files),3000)) \n",
    "  train_labels = np.zeros(len(files)) \n",
    "  count = 0; \n",
    "  docID = 0; \n",
    "  for fil in files: \n",
    "    with open(fil) as fi: \n",
    "      for i,line in enumerate(fi): \n",
    "        if i == 2: \n",
    "          words = line.split() \n",
    "          for word in words: \n",
    "            wordID = 0 \n",
    "            for i,d in enumerate(dictionary): \n",
    "              if d[0] == word: \n",
    "                wordID = i \n",
    "                features_matrix[docID,wordID] = words.count(word) \n",
    "      train_labels[docID] = 0; \n",
    "      filepathTokens = fil.split('\\\\') \n",
    "      lastToken = filepathTokens[len(filepathTokens) - 1] \n",
    "      if lastToken.startswith(\"spmsg\"): \n",
    "          train_labels[docID] = 1; \n",
    "          count = count + 1 \n",
    "      docID = docID + 1 \n",
    "  return features_matrix, train_labels"
   ]
  },
  {
   "cell_type": "markdown",
   "metadata": {
    "id": "HuuibldmdIBg"
   },
   "source": [
    "# Mount The Drive"
   ]
  },
  {
   "cell_type": "code",
   "execution_count": 26,
   "metadata": {
    "colab": {
     "base_uri": "https://localhost:8080/"
    },
    "id": "uyLTGc0EdPSO",
    "outputId": "f6743e28-4844-4be6-8bcd-47f1957271c5"
   },
   "outputs": [
    {
     "name": "stdout",
     "output_type": "stream",
     "text": [
      "Drive already mounted at /gdrive; to attempt to forcibly remount, call drive.mount(\"/gdrive\", force_remount=True).\n"
     ]
    }
   ],
   "source": [
    "from google.colab import drive\n",
    "drive.mount('/gdrive')\n",
    "#Connect google.colab to Google drive to access the path for Train-mails and Test-mails"
   ]
  },
  {
   "cell_type": "code",
   "execution_count": 4,
   "metadata": {
    "id": "ZfIg2Mrtn4Uz"
   },
   "outputs": [],
   "source": [
    "train = './train-mails'\n",
    "# The path for the train mails data "
   ]
  },
  {
   "cell_type": "code",
   "execution_count": 5,
   "metadata": {
    "id": "NA3Xjh5UoI87"
   },
   "outputs": [],
   "source": [
    "test = './test-mails'\n",
    "# The path for the test mails data "
   ]
  },
  {
   "cell_type": "markdown",
   "metadata": {
    "id": "wE0c_GCKmBpi"
   },
   "source": [
    "## Predicting and Training the Model"
   ]
  },
  {
   "cell_type": "code",
   "execution_count": 9,
   "metadata": {
    "colab": {
     "base_uri": "https://localhost:8080/",
     "height": 356
    },
    "id": "axBo8EvRvAAu",
    "outputId": "715345a9-eb8e-4c82-d522-685ded9f9428"
   },
   "outputs": [
    {
     "ename": "PermissionError",
     "evalue": "[Errno 13] Permission denied: './train-mails\\\\test-mails'",
     "output_type": "error",
     "traceback": [
      "\u001b[1;31m---------------------------------------------------------------------------\u001b[0m",
      "\u001b[1;31mPermissionError\u001b[0m                           Traceback (most recent call last)",
      "\u001b[1;32m~\\AppData\\Local\\Temp/ipykernel_31272/1892433737.py\u001b[0m in \u001b[0;36m<module>\u001b[1;34m\u001b[0m\n\u001b[0;32m      1\u001b[0m \u001b[1;31m#Use our train and test data to prepare it to use it for the model.\u001b[0m\u001b[1;33m\u001b[0m\u001b[1;33m\u001b[0m\u001b[0m\n\u001b[1;32m----> 2\u001b[1;33m \u001b[0mdictionary\u001b[0m \u001b[1;33m=\u001b[0m \u001b[0mmake_Dictionary\u001b[0m\u001b[1;33m(\u001b[0m\u001b[0mtrain\u001b[0m\u001b[1;33m)\u001b[0m\u001b[1;33m\u001b[0m\u001b[1;33m\u001b[0m\u001b[0m\n\u001b[0m\u001b[0;32m      3\u001b[0m \u001b[1;33m\u001b[0m\u001b[0m\n\u001b[0;32m      4\u001b[0m \u001b[0mfeatures_matrix\u001b[0m\u001b[1;33m,\u001b[0m \u001b[0mlabels\u001b[0m \u001b[1;33m=\u001b[0m \u001b[0mextract_features\u001b[0m\u001b[1;33m(\u001b[0m\u001b[0mtrain\u001b[0m\u001b[1;33m)\u001b[0m\u001b[1;33m\u001b[0m\u001b[1;33m\u001b[0m\u001b[0m\n\u001b[0;32m      5\u001b[0m \u001b[0mtest_features_matrix\u001b[0m\u001b[1;33m,\u001b[0m \u001b[0mtest_labels\u001b[0m \u001b[1;33m=\u001b[0m \u001b[0mextract_features\u001b[0m\u001b[1;33m(\u001b[0m\u001b[0mtest\u001b[0m\u001b[1;33m)\u001b[0m\u001b[1;33m\u001b[0m\u001b[1;33m\u001b[0m\u001b[0m\n",
      "\u001b[1;32m~\\AppData\\Local\\Temp/ipykernel_31272/3209673031.py\u001b[0m in \u001b[0;36mmake_Dictionary\u001b[1;34m(root_dir)\u001b[0m\n\u001b[0;32m      6\u001b[0m   \u001b[0memails\u001b[0m \u001b[1;33m=\u001b[0m \u001b[1;33m[\u001b[0m\u001b[0mos\u001b[0m\u001b[1;33m.\u001b[0m\u001b[0mpath\u001b[0m\u001b[1;33m.\u001b[0m\u001b[0mjoin\u001b[0m\u001b[1;33m(\u001b[0m\u001b[0mroot_dir\u001b[0m\u001b[1;33m,\u001b[0m\u001b[0mf\u001b[0m\u001b[1;33m)\u001b[0m \u001b[1;32mfor\u001b[0m \u001b[0mf\u001b[0m \u001b[1;32min\u001b[0m \u001b[0mos\u001b[0m\u001b[1;33m.\u001b[0m\u001b[0mlistdir\u001b[0m\u001b[1;33m(\u001b[0m\u001b[0mroot_dir\u001b[0m\u001b[1;33m)\u001b[0m\u001b[1;33m]\u001b[0m\u001b[1;33m\u001b[0m\u001b[1;33m\u001b[0m\u001b[0m\n\u001b[0;32m      7\u001b[0m   \u001b[1;32mfor\u001b[0m \u001b[0mmail\u001b[0m \u001b[1;32min\u001b[0m \u001b[0memails\u001b[0m\u001b[1;33m:\u001b[0m\u001b[1;33m\u001b[0m\u001b[1;33m\u001b[0m\u001b[0m\n\u001b[1;32m----> 8\u001b[1;33m     \u001b[1;32mwith\u001b[0m \u001b[0mopen\u001b[0m\u001b[1;33m(\u001b[0m\u001b[0mmail\u001b[0m\u001b[1;33m)\u001b[0m \u001b[1;32mas\u001b[0m \u001b[0mm\u001b[0m\u001b[1;33m:\u001b[0m\u001b[1;33m\u001b[0m\u001b[1;33m\u001b[0m\u001b[0m\n\u001b[0m\u001b[0;32m      9\u001b[0m       \u001b[1;32mfor\u001b[0m \u001b[0mline\u001b[0m \u001b[1;32min\u001b[0m \u001b[0mm\u001b[0m\u001b[1;33m:\u001b[0m\u001b[1;33m\u001b[0m\u001b[1;33m\u001b[0m\u001b[0m\n\u001b[0;32m     10\u001b[0m         \u001b[0mwords\u001b[0m \u001b[1;33m=\u001b[0m \u001b[0mline\u001b[0m\u001b[1;33m.\u001b[0m\u001b[0msplit\u001b[0m\u001b[1;33m(\u001b[0m\u001b[1;33m)\u001b[0m\u001b[1;33m\u001b[0m\u001b[1;33m\u001b[0m\u001b[0m\n",
      "\u001b[1;31mPermissionError\u001b[0m: [Errno 13] Permission denied: './train-mails\\\\test-mails'"
     ]
    }
   ],
   "source": [
    "#Use our train and test data to prepare it to use it for the model.\n",
    "dictionary = make_Dictionary(train)\n",
    "\n",
    "features_matrix, labels = extract_features(train)\n",
    "test_features_matrix, test_labels = extract_features(test)"
   ]
  }
 ],
 "metadata": {
  "colab": {
   "collapsed_sections": [],
   "name": "Rana_Bhullar_Spam_Mail_Naive_Bayes_CA02.ipynb",
   "provenance": []
  },
  "kernelspec": {
   "display_name": "Python 3 (ipykernel)",
   "language": "python",
   "name": "python3"
  },
  "language_info": {
   "codemirror_mode": {
    "name": "ipython",
    "version": 3
   },
   "file_extension": ".py",
   "mimetype": "text/x-python",
   "name": "python",
   "nbconvert_exporter": "python",
   "pygments_lexer": "ipython3",
   "version": "3.9.7"
  }
 },
 "nbformat": 4,
 "nbformat_minor": 1
}
